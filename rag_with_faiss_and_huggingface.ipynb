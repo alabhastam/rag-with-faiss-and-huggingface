{
  "nbformat": 4,
  "nbformat_minor": 0,
  "metadata": {
    "colab": {
      "provenance": [],
      "authorship_tag": "ABX9TyPmjM8bW63L20pRyaPY9AGw",
      "include_colab_link": true
    },
    "kernelspec": {
      "name": "python3",
      "display_name": "Python 3"
    },
    "language_info": {
      "name": "python"
    }
  },
  "cells": [
    {
      "cell_type": "markdown",
      "metadata": {
        "id": "view-in-github",
        "colab_type": "text"
      },
      "source": [
        "<a href=\"https://colab.research.google.com/github/alabhastam/rag-with-faiss-and-huggingface/blob/main/rag_with_faiss_and_huggingface.ipynb\" target=\"_parent\"><img src=\"https://colab.research.google.com/assets/colab-badge.svg\" alt=\"Open In Colab\"/></a>"
      ]
    },
    {
      "cell_type": "code",
      "execution_count": null,
      "metadata": {
        "id": "SzH87nX0h4Gv"
      },
      "outputs": [],
      "source": [
        "!pip install -q faiss-cpu sentence-transformers transformers\n"
      ]
    },
    {
      "cell_type": "code",
      "source": [
        "docs = [\n",
        "    \"Artificial intelligence is the simulation of human intelligence processes by machines.\",\n",
        "    \"Machine learning is a subset of AI focused on learning from data.\",\n",
        "    \"Natural language processing allows computers to understand human language.\",\n",
        "    \"FAISS is a library for efficient similarity search and clustering of dense vectors.\",\n",
        "]"
      ],
      "metadata": {
        "id": "H-ECZ9lTiUe-"
      },
      "execution_count": 2,
      "outputs": []
    },
    {
      "cell_type": "code",
      "source": [
        "from sentence_transformers import SentenceTransformer\n",
        "\n",
        "embedding_model = SentenceTransformer('all-MiniLM-L6-v2')\n",
        "doc_embeddings = embedding_model.encode(docs)\n"
      ],
      "metadata": {
        "id": "v2PW1bfziVbN"
      },
      "execution_count": null,
      "outputs": []
    },
    {
      "cell_type": "code",
      "source": [
        "import faiss\n",
        "import numpy as np\n",
        "\n",
        "doc_embeddings = np.array(doc_embeddings).astype('float32')\n",
        "\n",
        "index = faiss.IndexFlatL2(doc_embeddings.shape[1])\n",
        "index.add(doc_embeddings)\n"
      ],
      "metadata": {
        "id": "k6xUX2Saik5E"
      },
      "execution_count": 4,
      "outputs": []
    },
    {
      "cell_type": "code",
      "source": [
        "question = \"What is FAISS used for?\"\n",
        "question_vector = embedding_model.encode([question]).astype('float32')\n",
        "\n",
        "_, result_index = index.search(question_vector, k=1)\n",
        "\n",
        "retrieved_doc = docs[result_index[0][0]]\n",
        "print(\"🔍 Related Document:\", retrieved_doc)"
      ],
      "metadata": {
        "colab": {
          "base_uri": "https://localhost:8080/"
        },
        "id": "1oWAfj8QiuEs",
        "outputId": "9a71b5b7-bc79-4cdb-bc3a-ac7dffd415a9"
      },
      "execution_count": 5,
      "outputs": [
        {
          "output_type": "stream",
          "name": "stdout",
          "text": [
            "🔍 Related Document: FAISS is a library for efficient similarity search and clustering of dense vectors.\n"
          ]
        }
      ]
    },
    {
      "cell_type": "code",
      "source": [
        "from transformers import pipeline\n",
        "\n",
        "qa_model = pipeline(\"text2text-generation\", model=\"google/flan-t5-base\")\n",
        "\n",
        "prompt = f\"Answer the question based on the context.\\n\\nContext: {retrieved_doc}\\n\\nQuestion: {question}\"\n",
        "response = qa_model(prompt, max_length=100)[0]['generated_text']\n"
      ],
      "metadata": {
        "id": "vYAAqPHki1KD"
      },
      "execution_count": null,
      "outputs": []
    },
    {
      "cell_type": "code",
      "source": [
        "print(\" Answer:\", response)\n"
      ],
      "metadata": {
        "colab": {
          "base_uri": "https://localhost:8080/"
        },
        "id": "9bAq2bwmkl0x",
        "outputId": "32cdff23-8a98-48a9-fa7c-ddedd46143dc"
      },
      "execution_count": 7,
      "outputs": [
        {
          "output_type": "stream",
          "name": "stdout",
          "text": [
            " Answer: efficient similarity search and clustering of dense vectors\n"
          ]
        }
      ]
    }
  ]
}